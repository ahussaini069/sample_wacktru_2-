{
 "cells": [
  {
   "cell_type": "code",
   "execution_count": 3,
   "id": "770093a2-a90f-4e8f-8802-d0a33042a7cd",
   "metadata": {},
   "outputs": [
    {
     "data": {
      "text/plain": [
       "tensor(1)"
      ]
     },
     "execution_count": 3,
     "metadata": {},
     "output_type": "execute_result"
    }
   ],
   "source": [
    "import torch\n",
    "\n",
    "torch.tensor(1)"
   ]
  },
  {
   "cell_type": "code",
   "execution_count": 1,
   "id": "5137b1d4-f2c8-41b8-babb-47f883d69f80",
   "metadata": {},
   "outputs": [],
   "source": [
    "from fastai.vision.all import * "
   ]
  },
  {
   "cell_type": "code",
   "execution_count": null,
   "id": "6b11c02f-f9ef-4d42-b76d-58610f9e6db9",
   "metadata": {},
   "outputs": [],
   "source": []
  }
 ],
 "metadata": {
  "kernelspec": {
   "display_name": "Python 3 (ipykernel)",
   "language": "python",
   "name": "python3"
  },
  "language_info": {
   "codemirror_mode": {
    "name": "ipython",
    "version": 3
   },
   "file_extension": ".py",
   "mimetype": "text/x-python",
   "name": "python",
   "nbconvert_exporter": "python",
   "pygments_lexer": "ipython3",
   "version": "3.10.8"
  }
 },
 "nbformat": 4,
 "nbformat_minor": 5
}
